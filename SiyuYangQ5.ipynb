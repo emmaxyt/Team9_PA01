{
 "cells": [
  {
   "cell_type": "markdown",
   "id": "cefede57-8563-4419-9666-da68f5de05a0",
   "metadata": {},
   "source": [
    "# Question 5 (b)(c)(i)\n",
    "* (b) what is the total number of students taking COSI courses last year?\n",
    "* (c) what was the median size of a COSI course last year (counting only those courses with at least 10 students)\n",
    "* (i) Create your own interesting question (each team member creates their own) and use Python to answer that question."
   ]
  },
  {
   "cell_type": "code",
   "execution_count": 1,
   "id": "7bc6bb21-170f-49c8-9d85-4437b9636db9",
   "metadata": {},
   "outputs": [],
   "source": [
    "import json #first load the json file\n",
    "import statistics"
   ]
  },
  {
   "cell_type": "code",
   "execution_count": 2,
   "id": "124dc567-685a-4ab9-bbf4-875d741cdfe5",
   "metadata": {},
   "outputs": [],
   "source": [
    "with open(\"courses20-21.json\",\"r\",encoding='utf-8') as jsonfile:\n",
    "    courses = json.load(jsonfile)"
   ]
  },
  {
   "cell_type": "markdown",
   "id": "7510a845-a5f8-4f6c-be2c-1dd77c994d45",
   "metadata": {},
   "source": [
    "### 5(b):"
   ]
  },
  {
   "cell_type": "code",
   "execution_count": 3,
   "id": "99c2bee3-0c53-4160-958c-e1a9ae4a431e",
   "metadata": {},
   "outputs": [
    {
     "name": "stdout",
     "output_type": "stream",
     "text": [
      "2223\n"
     ]
    }
   ],
   "source": [
    "x = 0\n",
    "for c in courses:\n",
    "    if(c['subject']=='COSI'):\n",
    "        x+=c[ 'enrolled']\n",
    "print(x)"
   ]
  },
  {
   "cell_type": "markdown",
   "id": "0326f725-9def-4d26-9b04-705c44935d02",
   "metadata": {},
   "source": [
    "### 5(c):"
   ]
  },
  {
   "cell_type": "code",
   "execution_count": 4,
   "id": "d23b1963-1d70-41de-9c64-45f8e676f0ee",
   "metadata": {
    "tags": []
   },
   "outputs": [
    {
     "name": "stdout",
     "output_type": "stream",
     "text": [
      "37\n"
     ]
    }
   ],
   "source": [
    "x = []\n",
    "for c in courses:\n",
    "    if(c['subject']=='COSI' and c['enrolled']>=10):\n",
    "        x.append(c['enrolled'])\n",
    "print(statistics.median(x))"
   ]
  },
  {
   "cell_type": "markdown",
   "id": "478f5e6b-3227-4f35-8d45-bbfb2e1fe158",
   "metadata": {},
   "source": [
    "### 5(i): How many people have been waitlisted by ECON depart(non-independent study courses) in total?\n",
    "  I'm asking this question is because I'm also an Econ major, and there are very limited ECON electives with small capacities.   So, the course selection process and enrollment are painful, and I'm curious how many people like me are always on the    waitlist."
   ]
  },
  {
   "cell_type": "code",
   "execution_count": 5,
   "id": "b7892b94-4237-4a3b-a81e-cb3fea21f21c",
   "metadata": {},
   "outputs": [
    {
     "name": "stdout",
     "output_type": "stream",
     "text": [
      "102\n"
     ]
    }
   ],
   "source": [
    "x = 0\n",
    "for c in courses:\n",
    "    if(c['subject']=='ECON' and c['independent_study']==False):\n",
    "        x+=c[ 'waiting']\n",
    "\n",
    "print(x) "
   ]
  },
  {
   "cell_type": "code",
   "execution_count": null,
   "id": "3046fa9d-933a-4033-8df3-308554934aae",
   "metadata": {},
   "outputs": [],
   "source": []
  }
 ],
 "metadata": {
  "kernelspec": {
   "display_name": "Python 3 (ipykernel)",
   "language": "python",
   "name": "python3"
  },
  "language_info": {
   "codemirror_mode": {
    "name": "ipython",
    "version": 3
   },
   "file_extension": ".py",
   "mimetype": "text/x-python",
   "name": "python",
   "nbconvert_exporter": "python",
   "pygments_lexer": "ipython3",
   "version": "3.9.5"
  }
 },
 "nbformat": 4,
 "nbformat_minor": 5
}
