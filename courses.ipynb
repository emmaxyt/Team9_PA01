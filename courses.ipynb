{
 "cells": [
  {
   "cell_type": "markdown",
   "metadata": {},
   "source": [
    "# Courses Demo\n",
    "This Jupyter notebook is for exploring the data set courses20-21.json\n",
    "which consists of all Brandeis courses in the 20-21 academic year (Fall20, Spr21, Sum21) \n",
    "which had at least 1 student enrolled.\n",
    "\n",
    "First we need to read the json file into a list of Python dictionaries"
   ]
  },
  {
   "cell_type": "code",
   "execution_count": 2,
   "metadata": {},
   "outputs": [],
   "source": [
    "import json"
   ]
  },
  {
   "cell_type": "code",
   "execution_count": 3,
   "metadata": {},
   "outputs": [],
   "source": [
    "with open(\"courses20-21.json\",\"r\",encoding='utf-8') as jsonfile:\n",
    "    courses = json.load(jsonfile)"
   ]
  },
  {
   "cell_type": "markdown",
   "metadata": {},
   "source": [
    "## Structure of a course\n",
    "Next we look at the fields of each course dictionary and their values"
   ]
  },
  {
   "cell_type": "code",
   "execution_count": 4,
   "metadata": {},
   "outputs": [
    {
     "name": "stdout",
     "output_type": "stream",
     "text": [
      "there are 7813 courses in the dataset\n",
      "here is the data for course 1246\n"
     ]
    },
    {
     "data": {
      "text/plain": [
       "{'limit': 28,\n",
       " 'times': [{'start': 1080, 'end': 1170, 'days': ['w', 'm']}],\n",
       " 'enrolled': 4,\n",
       " 'details': 'Instruction for this course will be offered remotely. Meeting times for this course are listed in the schedule of classes (in ET).',\n",
       " 'type': 'section',\n",
       " 'status_text': 'Open',\n",
       " 'section': '1',\n",
       " 'waiting': 0,\n",
       " 'instructor': ['An', 'Huang', 'anhuang@brandeis.edu'],\n",
       " 'coinstructors': [],\n",
       " 'code': ['MATH', '223A'],\n",
       " 'subject': 'MATH',\n",
       " 'coursenum': '223A',\n",
       " 'name': 'Lie Algebras: Representation Theory',\n",
       " 'independent_study': False,\n",
       " 'term': '1203',\n",
       " 'description': \"Theorems of Engel and Lie. Semisimple Lie algebras, Cartan's criterion. Universal enveloping algebras, PBW theorem, Serre's construction. Representation theory. Other topics as time permits. Usually offered every second year.\\nAn Huang\"}"
      ]
     },
     "execution_count": 4,
     "metadata": {},
     "output_type": "execute_result"
    }
   ],
   "source": [
    "print('there are',len(courses),'courses in the dataset')\n",
    "print('here is the data for course 1246')\n",
    "courses[1246]"
   ]
  },
  {
   "cell_type": "markdown",
   "metadata": {},
   "source": [
    "## Cleaning the data\n",
    "If we want to sort courses by instructor or by code, we need to replace the lists with tuples (which are immutable lists)"
   ]
  },
  {
   "cell_type": "code",
   "execution_count": 5,
   "metadata": {},
   "outputs": [],
   "source": [
    "for course in courses:\n",
    "        course['instructor'] = tuple(course['instructor'])\n",
    "        course['coinstructors'] = tuple([tuple(f) for f in course['coinstructors']])\n",
    "        course['code']= tuple(course['code'])"
   ]
  },
  {
   "cell_type": "code",
   "execution_count": 6,
   "metadata": {},
   "outputs": [
    {
     "name": "stdout",
     "output_type": "stream",
     "text": [
      "notice that the instructor and code are tuples now\n"
     ]
    },
    {
     "data": {
      "text/plain": [
       "{'limit': None,\n",
       " 'times': [{'start': 960, 'days': ['w', 'm'], 'end': 1050}],\n",
       " 'enrolled': 7,\n",
       " 'details': 'Instruction for this course will be offered remotely. Meeting times for this course are listed in the schedule of classes (in ET).',\n",
       " 'type': 'section',\n",
       " 'status_text': 'Open',\n",
       " 'section': '1',\n",
       " 'waiting': 0,\n",
       " 'instructor': ('Michael', 'Strand', 'mstrand@brandeis.edu'),\n",
       " 'coinstructors': (),\n",
       " 'code': ('SOC', '204A'),\n",
       " 'subject': 'SOC',\n",
       " 'coursenum': '204A',\n",
       " 'name': 'Foundations of Sociological Theory',\n",
       " 'independent_study': False,\n",
       " 'term': '1203',\n",
       " 'description': 'Studies classic theoretical texts that have been foundational for sociology. Particular attention is paid to works of Marx, Durkheim, and Weber. Identifies questions and perspectives from these theorists that continue to be relevant for sociological thinking and research. Usually offered every second year.\\nLaura Miller or Michael Strand'}"
      ]
     },
     "execution_count": 6,
     "metadata": {},
     "output_type": "execute_result"
    }
   ],
   "source": [
    "print('notice that the instructor and code are tuples now')\n",
    "courses[1247]"
   ]
  },
  {
   "cell_type": "markdown",
   "metadata": {},
   "source": [
    "# Exploring the data set\n",
    "Now we will show how to use straight python to explore the data set and answer some interesting questions. Next week we will start learning Pandas/Numpy which are packages that make it easier to explore large dataset efficiently.\n",
    "\n",
    "Here are some questions we can try to asnwer:\n",
    "* what are all of the subjects of courses (e.g. COSI, MATH, JAPN, PHIL, ...)\n",
    "* which terms are represented?\n",
    "* how many instructors taught at Brandeis last year?\n",
    "* what were the five largest course sections?\n",
    "* what were the five largest courses (where we combine sections)?\n",
    "* which are the five largest subjects measured by number of courses offered?\n",
    "* which are the five largest courses measured by number of students taught?\n",
    "* which course had the most sections taught in 20-21?\n",
    "* who are the top five faculty in terms of number of students taught?\n",
    "* etc."
   ]
  },
  {
   "cell_type": "code",
   "execution_count": null,
   "metadata": {},
   "outputs": [],
   "source": []
  },
  {
   "cell_type": "markdown",
   "metadata": {},
   "source": [
    "## PA 01: Probelm 5"
   ]
  },
  {
   "cell_type": "markdown",
   "metadata": {},
   "source": [
    "### 5 a)\n",
    "how many faculty taught COSI courses last year?"
   ]
  },
  {
   "cell_type": "code",
   "execution_count": null,
   "metadata": {},
   "outputs": [],
   "source": []
  },
  {
   "cell_type": "markdown",
   "metadata": {},
   "source": [
    "### 5 b)\n",
    "what is the total number of students taking COSI courses last year?"
   ]
  },
  {
   "cell_type": "code",
   "execution_count": 7,
   "metadata": {},
   "outputs": [
    {
     "name": "stdout",
     "output_type": "stream",
     "text": [
      "2223\n"
     ]
    }
   ],
   "source": [
    "# Implemented by Siyu Yang\n",
    "x = 0\n",
    "for c in courses:\n",
    "    if(c['subject']=='COSI'):\n",
    "        x+=c[ 'enrolled']\n",
    "print(x)"
   ]
  },
  {
   "cell_type": "markdown",
   "metadata": {},
   "source": [
    "### 5 c)\n",
    "what was the median size of a COSI course last year (counting only those courses with at least 10 students)"
   ]
  },
  {
   "cell_type": "code",
   "execution_count": 8,
   "metadata": {},
   "outputs": [
    {
     "name": "stdout",
     "output_type": "stream",
     "text": [
      "37\n"
     ]
    }
   ],
   "source": [
    "# Implemented by Siyu Yang\n",
    "\n",
    "import statistics\n",
    "x = []\n",
    "for c in courses:\n",
    "    if(c['subject']=='COSI' and c['enrolled']>=10):\n",
    "        x.append(c['enrolled'])\n",
    "print(statistics.median(x))"
   ]
  },
  {
   "cell_type": "markdown",
   "metadata": {},
   "source": [
    "### 5 d)\n",
    "create a list of tuples (E,S) where S is a subject and E is the number of students enrolled in courses in that subject, sort it and print the top 10. This shows the top 10 subjects in terms of number of students taught."
   ]
  },
  {
   "cell_type": "code",
   "execution_count": null,
   "metadata": {},
   "outputs": [],
   "source": []
  },
  {
   "cell_type": "markdown",
   "metadata": {},
   "source": [
    "### 5 e)\n",
    "creates a list of tuples (S,N) where S is subject, N is the number of courses offered, prints the top 10 subjects in terms of number of courses offered"
   ]
  },
  {
   "cell_type": "code",
   "execution_count": null,
   "metadata": {},
   "outputs": [],
   "source": [
    "# Implemented by Emma Xu\n",
    "UniqueSubjects = {course['subject'] for course in courses}  # a set of unique subjects\n",
    "AllSubjects = [course['subject'] for course in courses]  # a list of all the courses in the subject \n",
    "SN_list = []\n",
    "for subject in UniqueSubjects:\n",
    "    SN_tuple = (subject, AllSubjects.count(subject)) \n",
    "    SN_list.append(SN_tuple)\n",
    "\n",
    "# print(SN_list)\n",
    "# sort\n",
    "SN_list.sort(key = lambda tup : tup[1], reverse = True) #sorts by tuplet's second item in descending order\n",
    "print (SN_list[0:10])"
   ]
  },
  {
   "cell_type": "markdown",
   "metadata": {},
   "source": [
    "### 5 f)\n",
    "creates a list of tuples (S,F) where S is a subject and F is the number of faculty teaching the courses in that subject, \n",
    "prints the top 10 subjects in terms of number of faculty teaching in the subject"
   ]
  },
  {
   "cell_type": "code",
   "execution_count": null,
   "metadata": {},
   "outputs": [],
   "source": [
    "# Implemented by Emma Xu\n",
    "UniqueSubjects = {course['subject'] for course in courses}  # a set of unique subjects\n",
    "SF_list = []\n",
    "for subject in UniqueSubjects:\n",
    "    faculties = {course['instructor'][0] for course in courses if course['subject'] == subject} # a set of faculties in the subject\n",
    "    SF_tuple = (subject, len(faculties)) \n",
    "    SF_list.append(SF_tuple)\n",
    "\n",
    "# print(SF_list) \n",
    "# sort\n",
    "SF_list.sort(key = lambda tup : tup[1], reverse = True)  #sorts by tuplet's second item in descending order\n",
    "print (SF_list[0:10])"
   ]
  },
  {
   "cell_type": "markdown",
   "metadata": {},
   "source": [
    "### 5 g)\n",
    "list the top 20 faculty in terms of number of students they taught"
   ]
  },
  {
   "cell_type": "code",
   "execution_count": null,
   "metadata": {},
   "outputs": [],
   "source": [
    "# Implemented by Tianjun Cai\n",
    "from collections import defaultdict\n",
    "total_f = defaultdict(int)\n",
    "for course in courses:\n",
    "    course_f = tuple(course['instructor'])\n",
    "    total_f[course_f] += course['enrolled']\n",
    "top_f = sorted(total_f.items(), key=lambda f:f[1], reverse=True)\n",
    "print(top_f[:20])"
   ]
  },
  {
   "cell_type": "markdown",
   "metadata": {},
   "source": [
    "### 5 h)\n",
    "list the top 20 courses in terms of number of students taking that course (where you combine different sections and semesters, i.e. just use the subject and course number)"
   ]
  },
  {
   "cell_type": "code",
   "execution_count": null,
   "metadata": {},
   "outputs": [],
   "source": [
    "# Implemented by Tianjun Cai\n",
    "from collections import defaultdict\n",
    "total_c = defaultdict(int)\n",
    "for course in courses:\n",
    "    course_key = (course['subject'], course['coursenum'])\n",
    "    total_c[course_key] += course['enrolled']\n",
    "top_c = sorted(total_c.items(), key=lambda c:c[1], reverse=True)\n",
    "print(top_c[:20])\n"
   ]
  },
  {
   "cell_type": "markdown",
   "metadata": {},
   "source": [
    "### 5 i)"
   ]
  },
  {
   "cell_type": "markdown",
   "metadata": {},
   "source": [
    "### Tianjun Cai\n",
    "\n",
    "Question: I am curious about what classes in COSI department have less than 10 students enrolled"
   ]
  },
  {
   "cell_type": "code",
   "execution_count": null,
   "metadata": {},
   "outputs": [],
   "source": [
    "cs_less_than_10 = set()\n",
    "for course in courses:\n",
    "    if course['subject'] == 'COSI' and course['enrolled'] < 10:\n",
    "        cs_less_than_10.add(course['code'])\n",
    "print(cs_less_than_10)"
   ]
  },
  {
   "cell_type": "markdown",
   "metadata": {},
   "source": [
    "### Emma Xu\n",
    "Question: how many independent study classes are there in each subject, prints the top 10 tuplet"
   ]
  },
  {
   "cell_type": "code",
   "execution_count": null,
   "metadata": {},
   "outputs": [],
   "source": [
    "UniqueSubjects = {course['subject'] for course in courses} # a set of unique subjects\n",
    "SIn_list = []\n",
    "for subject in UniqueSubjects:\n",
    "    indepdentStudy = [course for course in courses if (course['subject'] == subject and course['independent_study'] == True)]\n",
    "    SIn_tuple = (subject, len(indepdentStudy)) \n",
    "    SIn_list.append(SIn_tuple)\n",
    "\n",
    "# print(SIn_list) \n",
    "# sort\n",
    "SIn_list.sort(key = lambda tup : tup[1], reverse = True) #sorts by tuplet's second item in descending order\n",
    "print (SIn_list[0:10])"
   ]
  },
  {
   "cell_type": "markdown",
   "metadata": {},
   "source": [
    "### Siyu Yang\n",
    "\n",
    "Question: How many people have been waitlisted by ECON depart(non-independent study courses) in total?\n",
    "\n",
    "I'm asking this question is because I'm also an Econ major, and there are very limited ECON electives with small capacities.   So, the course selection process and enrollment are painful, and I'm curious how many people like me are always on the waitlist."
   ]
  },
  {
   "cell_type": "code",
   "execution_count": 9,
   "metadata": {},
   "outputs": [
    {
     "name": "stdout",
     "output_type": "stream",
     "text": [
      "102\n"
     ]
    }
   ],
   "source": [
    "x = 0\n",
    "for c in courses:\n",
    "    if(c['subject']=='ECON' and c['independent_study']==False):\n",
    "        x+=c[ 'waiting']\n",
    "\n",
    "print(x) "
   ]
  },
  {
   "cell_type": "code",
   "execution_count": null,
   "metadata": {},
   "outputs": [],
   "source": []
  }
 ],
 "metadata": {
  "kernelspec": {
   "display_name": "Python 3 (ipykernel)",
   "language": "python",
   "name": "python3"
  },
  "language_info": {
   "codemirror_mode": {
    "name": "ipython",
    "version": 3
   },
   "file_extension": ".py",
   "mimetype": "text/x-python",
   "name": "python",
   "nbconvert_exporter": "python",
   "pygments_lexer": "ipython3",
<<<<<<< HEAD
   "version": "3.9.7"
=======
   "version": "3.8.8"
>>>>>>> 128cbb0b551f91965129a8d7e1462a485bb30a72
  }
 },
 "nbformat": 4,
 "nbformat_minor": 4
}
