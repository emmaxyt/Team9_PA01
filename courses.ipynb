{
 "cells": [
  {
   "cell_type": "markdown",
   "metadata": {},
   "source": [
    "# Courses Demo\n",
    "This Jupyter notebook is for exploring the data set courses20-21.json\n",
    "which consists of all Brandeis courses in the 20-21 academic year (Fall20, Spr21, Sum21) \n",
    "which had at least 1 student enrolled.\n",
    "\n",
    "First we need to read the json file into a list of Python dictionaries"
   ]
  },
  {
   "cell_type": "code",
   "execution_count": 1,
   "metadata": {},
   "outputs": [],
   "source": [
    "import json"
   ]
  },
  {
   "cell_type": "code",
   "execution_count": 2,
   "metadata": {},
   "outputs": [],
   "source": [
    "with open(\"courses20-21.json\",\"r\",encoding='utf-8') as jsonfile:\n",
    "    courses = json.load(jsonfile)"
   ]
  },
  {
   "cell_type": "markdown",
   "metadata": {},
   "source": [
    "## Structure of a course\n",
    "Next we look at the fields of each course dictionary and their values"
   ]
  },
  {
   "cell_type": "code",
   "execution_count": 3,
   "metadata": {},
   "outputs": [
    {
     "name": "stdout",
     "output_type": "stream",
     "text": [
      "there are 7813 courses in the dataset\n",
      "here is the data for course 1246\n"
     ]
    },
    {
     "data": {
      "text/plain": [
       "{'limit': 28,\n",
       " 'times': [{'start': 1080, 'end': 1170, 'days': ['w', 'm']}],\n",
       " 'enrolled': 4,\n",
       " 'details': 'Instruction for this course will be offered remotely. Meeting times for this course are listed in the schedule of classes (in ET).',\n",
       " 'type': 'section',\n",
       " 'status_text': 'Open',\n",
       " 'section': '1',\n",
       " 'waiting': 0,\n",
       " 'instructor': ['An', 'Huang', 'anhuang@brandeis.edu'],\n",
       " 'coinstructors': [],\n",
       " 'code': ['MATH', '223A'],\n",
       " 'subject': 'MATH',\n",
       " 'coursenum': '223A',\n",
       " 'name': 'Lie Algebras: Representation Theory',\n",
       " 'independent_study': False,\n",
       " 'term': '1203',\n",
       " 'description': \"Theorems of Engel and Lie. Semisimple Lie algebras, Cartan's criterion. Universal enveloping algebras, PBW theorem, Serre's construction. Representation theory. Other topics as time permits. Usually offered every second year.\\nAn Huang\"}"
      ]
     },
     "execution_count": 3,
     "metadata": {},
     "output_type": "execute_result"
    }
   ],
   "source": [
    "print('there are',len(courses),'courses in the dataset')\n",
    "print('here is the data for course 1246')\n",
    "courses[1246]"
   ]
  },
  {
   "cell_type": "markdown",
   "metadata": {},
   "source": [
    "## Cleaning the data\n",
    "If we want to sort courses by instructor or by code, we need to replace the lists with tuples (which are immutable lists)"
   ]
  },
  {
   "cell_type": "code",
   "execution_count": 4,
   "metadata": {},
   "outputs": [],
   "source": [
    "for course in courses:\n",
    "        course['instructor'] = tuple(course['instructor'])\n",
    "        course['coinstructors'] = tuple([tuple(f) for f in course['coinstructors']])\n",
    "        course['code']= tuple(course['code'])"
   ]
  },
  {
   "cell_type": "code",
   "execution_count": 5,
   "metadata": {},
   "outputs": [
    {
     "name": "stdout",
     "output_type": "stream",
     "text": [
      "notice that the instructor and code are tuples now\n"
     ]
    },
    {
     "data": {
      "text/plain": [
       "{'limit': None,\n",
       " 'times': [{'start': 960, 'days': ['w', 'm'], 'end': 1050}],\n",
       " 'enrolled': 7,\n",
       " 'details': 'Instruction for this course will be offered remotely. Meeting times for this course are listed in the schedule of classes (in ET).',\n",
       " 'type': 'section',\n",
       " 'status_text': 'Open',\n",
       " 'section': '1',\n",
       " 'waiting': 0,\n",
       " 'instructor': ('Michael', 'Strand', 'mstrand@brandeis.edu'),\n",
       " 'coinstructors': (),\n",
       " 'code': ('SOC', '204A'),\n",
       " 'subject': 'SOC',\n",
       " 'coursenum': '204A',\n",
       " 'name': 'Foundations of Sociological Theory',\n",
       " 'independent_study': False,\n",
       " 'term': '1203',\n",
       " 'description': 'Studies classic theoretical texts that have been foundational for sociology. Particular attention is paid to works of Marx, Durkheim, and Weber. Identifies questions and perspectives from these theorists that continue to be relevant for sociological thinking and research. Usually offered every second year.\\nLaura Miller or Michael Strand'}"
      ]
     },
     "execution_count": 5,
     "metadata": {},
     "output_type": "execute_result"
    }
   ],
   "source": [
    "print('notice that the instructor and code are tuples now')\n",
    "courses[1247]"
   ]
  },
  {
   "cell_type": "markdown",
   "metadata": {},
   "source": [
    "# Exploring the data set\n",
    "Now we will show how to use straight python to explore the data set and answer some interesting questions. Next week we will start learning Pandas/Numpy which are packages that make it easier to explore large dataset efficiently.\n",
    "\n",
    "Here are some questions we can try to asnwer:\n",
    "* what are all of the subjects of courses (e.g. COSI, MATH, JAPN, PHIL, ...)\n",
    "* which terms are represented?\n",
    "* how many instructors taught at Brandeis last year?\n",
    "* what were the five largest course sections?\n",
    "* what were the five largest courses (where we combine sections)?\n",
    "* which are the five largest subjects measured by number of courses offered?\n",
    "* which are the five largest courses measured by number of students taught?\n",
    "* which course had the most sections taught in 20-21?\n",
    "* who are the top five faculty in terms of number of students taught?\n",
    "* etc."
   ]
  },
  {
   "cell_type": "code",
   "execution_count": null,
   "metadata": {},
   "outputs": [],
   "source": []
  },
  {
   "cell_type": "markdown",
   "metadata": {},
   "source": [
    "## PA 01: Probelm 5"
   ]
  },
  {
   "cell_type": "markdown",
   "metadata": {},
   "source": [
    "### 5 a)\n",
    "how many faculty taught COSI courses last year?"
   ]
  },
  {
   "cell_type": "code",
   "execution_count": null,
   "metadata": {},
   "outputs": [],
   "source": []
  },
  {
   "cell_type": "markdown",
   "metadata": {},
   "source": [
    "### 5 b)\n",
    "what is the total number of students taking COSI courses last year?"
   ]
  },
  {
   "cell_type": "code",
   "execution_count": 6,
   "metadata": {},
   "outputs": [
    {
     "name": "stdout",
     "output_type": "stream",
     "text": [
      "2223\n"
     ]
    }
   ],
   "source": [
    "# Implemented by Siyu Yang\n",
    "x = 0\n",
    "for c in courses:\n",
    "    if(c['subject']=='COSI'):\n",
    "        x+=c[ 'enrolled']\n",
    "print(x)"
   ]
  },
  {
   "cell_type": "markdown",
   "metadata": {},
   "source": [
    "### 5 c)\n",
    "what was the median size of a COSI course last year (counting only those courses with at least 10 students)"
   ]
  },
  {
   "cell_type": "code",
   "execution_count": 7,
   "metadata": {},
   "outputs": [
    {
     "name": "stdout",
     "output_type": "stream",
     "text": [
      "37\n"
     ]
    }
   ],
   "source": [
    "# Implemented by Siyu Yang\n",
    "\n",
    "import statistics\n",
    "x = []\n",
    "for c in courses:\n",
    "    if(c['subject']=='COSI' and c['enrolled']>=10):\n",
    "        x.append(c['enrolled'])\n",
    "print(statistics.median(x))"
   ]
  },
  {
   "cell_type": "markdown",
   "metadata": {},
   "source": [
    "### 5 d)\n",
    "create a list of tuples (E,S) where S is a subject and E is the number of students enrolled in courses in that subject, sort it and print the top 10. This shows the top 10 subjects in terms of number of students taught."
   ]
  },
  {
   "cell_type": "code",
   "execution_count": 19,
   "metadata": {},
   "outputs": [
    {
     "name": "stdout",
     "output_type": "stream",
     "text": [
      "[(784, 'HWL'), (186, 'CHEM'), (186, 'BIOL'), (181, 'BIOL'), (180, 'CHEM'), (175, 'HS'), (170, 'PSYC'), (166, 'PSYC'), (166, 'COSI'), (150, 'COSI')]\n"
     ]
    }
   ],
   "source": [
    "# Implemented by Yi-Zhe Hong\n",
    "x=[]\n",
    "for c in courses:\n",
    "    tup = (c['enrolled'],c['subject'])\n",
    "    x.append(tup)\n",
    "\n",
    "x.sort(reverse = True)\n",
    "print(x[0:10])\n",
    "        "
   ]
  },
  {
   "cell_type": "markdown",
   "metadata": {},
   "source": [
    "### 5 e)\n",
    "creates a list of tuples (S,N) where S is subject, N is the number of courses offered, prints the top 10 subjects in terms of number of courses offered"
   ]
  },
  {
   "cell_type": "code",
   "execution_count": 28,
   "metadata": {},
   "outputs": [
    {
     "name": "stdout",
     "output_type": "stream",
     "text": [
      "[('BIOL', 613), ('HIST', 498), ('PSYC', 417), ('NEUR', 403), ('BCHM', 296), ('PHYS', 288), ('HS', 274), ('COSI', 272), ('MUS', 266), ('ENG', 265)]\n"
     ]
    }
   ],
   "source": [
    "# Implemented by Emma Xu\n",
    "UniqueSubjects = {course['subject'] for course in courses}  # a set of unique subjects\n",
    "SN_list = []\n",
    "for subject in UniqueSubjects:\n",
    "    Allcourses = [course for course in courses if course['subject'] == subject]\n",
    "    SN_tuple = (subject, len(Allcourses))\n",
    "    SN_list.append(SN_tuple)\n",
    "\n",
    "# print(SN_list)\n",
    "# sort\n",
    "SN_list.sort(key = lambda tup : tup[1], reverse = True) #sorts by tuplet's second item in descending order\n",
    "print (SN_list[0:10])"
   ]
  },
  {
   "cell_type": "markdown",
   "metadata": {},
   "source": [
    "### 5 f)\n",
    "creates a list of tuples (S,F) where S is a subject and F is the number of faculty teaching the courses in that subject, \n",
    "prints the top 10 subjects in terms of number of faculty teaching in the subject"
   ]
  },
  {
   "cell_type": "code",
   "execution_count": 29,
   "metadata": {},
   "outputs": [
    {
     "name": "stdout",
     "output_type": "stream",
     "text": [
      "[('HS', 86), ('BIOL', 66), ('ECON', 51), ('BCHM', 48), ('HIST', 45), ('BCBP', 45), ('BUS', 44), ('HWL', 41), ('MATH', 37), ('NEJS', 35)]\n"
     ]
    }
   ],
   "source": [
    "# Implemented by Emma Xu\n",
    "UniqueSubjects = {course['subject'] for course in courses}  # a set of unique subjects\n",
    "SF_list = []\n",
    "for subject in UniqueSubjects:\n",
    "    faculties = {course['instructor'][0] for course in courses if course['subject'] == subject} # a set of faculties in the subject\n",
    "    SF_tuple = (subject, len(faculties)) \n",
    "    SF_list.append(SF_tuple)\n",
    "\n",
    "# print(SF_list) \n",
    "# sort\n",
    "SF_list.sort(key = lambda tup : tup[1], reverse = True)  #sorts by tuplet's second item in descending order\n",
    "print (SF_list[0:10])"
   ]
  },
  {
   "cell_type": "markdown",
   "metadata": {},
   "source": [
    "### 5 g)\n",
    "list the top 20 faculty in terms of number of students they taught"
   ]
  },
  {
   "cell_type": "code",
   "execution_count": 11,
   "metadata": {},
   "outputs": [
    {
     "name": "stdout",
     "output_type": "stream",
     "text": [
      "[(('Leah', 'Berkenwald', 'leahb@brandeis.edu'), 926), (('Kene Nathan', 'Piasta', 'kpiasta@brandeis.edu'), 583), (('Stephanie', 'Murray', 'murray@brandeis.edu'), 515), (('Milos', 'Dolnik', 'dolnik@brandeis.edu'), 489), (('Maria', 'de Boef Miara', 'mmiara@brandeis.edu'), 450), (('Bryan', 'Ingoglia', 'ingoglia@brandeis.edu'), 439), (('Rachel V.E.', 'Woodruff', 'woodruff@brandeis.edu'), 422), (('Timothy J', 'Hickey', 'tjhickey@brandeis.edu'), 411), (('Daniel', 'Breen', 'dbreen91@brandeis.edu'), 375), (('Melissa', 'Kosinski-Collins', 'kosinski@brandeis.edu'), 365), (('Claudia', 'Novack', 'novack@brandeis.edu'), 355), (('Antonella', 'DiLillo', 'dilant@brandeis.edu'), 342), (('Jon', 'Chilingerian', 'chilinge@brandeis.edu'), 330), (('Ahmad', 'Namini', 'anamini@brandeis.edu'), 327), (('Iraklis', 'Tsekourakis', 'tsekourakis@brandeis.edu'), 316), (('Geoffrey', 'Clarke', 'geoffclarke@brandeis.edu'), 315), (('Peter', 'Mistark', 'pmistark@brandeis.edu'), 277), (('Brenda', 'Anderson', 'banders@brandeis.edu'), 275), (('Colleen', 'Hitchcock', 'hitchcock@brandeis.edu'), 261), (('Scott A.', 'Redenius', 'redenius@brandeis.edu'), 259)]\n"
     ]
    }
   ],
   "source": [
    "# Implemented by Tianjun Cai\n",
    "from collections import defaultdict\n",
    "total_f = defaultdict(int)\n",
    "for course in courses:\n",
    "    course_f = tuple(course['instructor'])\n",
    "    total_f[course_f] += course['enrolled']\n",
    "top_f = sorted(total_f.items(), key=lambda f:f[1], reverse=True)\n",
    "print(top_f[:20])"
   ]
  },
  {
   "cell_type": "markdown",
   "metadata": {},
   "source": [
    "### 5 h)\n",
    "list the top 20 courses in terms of number of students taking that course (where you combine different sections and semesters, i.e. just use the subject and course number)"
   ]
  },
  {
   "cell_type": "code",
   "execution_count": 12,
   "metadata": {},
   "outputs": [
    {
     "name": "stdout",
     "output_type": "stream",
     "text": [
      "[(('HWL', '1'), 940), (('HWL', '1-PRE'), 879), (('BIOL', '14A'), 358), (('COSI', '10A'), 343), (('PSYC', '10A'), 336), (('BIOL', '15B'), 287), (('MATH', '10A'), 280), (('BIOL', '18B'), 274), (('BIOL', '18A'), 262), (('CHEM', '29A'), 245), (('CHEM', '29B'), 239), (('CHEM', '25A'), 236), (('PSYC', '51A'), 231), (('CHEM', '25B'), 226), (('COSI', '12B'), 225), (('BUS', '6A'), 215), (('CHEM', '18A'), 208), (('ECON', '10A'), 207), (('MATH', '15A'), 204), (('ANTH', '1A'), 201)]\n"
     ]
    }
   ],
   "source": [
    "# Implemented by Tianjun Cai\n",
    "from collections import defaultdict\n",
    "total_c = defaultdict(int)\n",
    "for course in courses:\n",
    "    course_key = (course['subject'], course['coursenum'])\n",
    "    total_c[course_key] += course['enrolled']\n",
    "top_c = sorted(total_c.items(), key=lambda c:c[1], reverse=True)\n",
    "print(top_c[:20])\n"
   ]
  },
  {
   "cell_type": "markdown",
   "metadata": {},
   "source": [
    "### 5 i)"
   ]
  },
  {
   "cell_type": "markdown",
   "metadata": {},
   "source": [
    "### Tianjun Cai\n",
    "\n",
    "Question: I am curious about what classes in COSI department have less than 10 students enrolled"
   ]
  },
  {
   "cell_type": "code",
   "execution_count": 13,
   "metadata": {},
   "outputs": [
    {
     "name": "stdout",
     "output_type": "stream",
     "text": [
      "{('COSI', '200A'), ('COSI', '241A'), ('COSI', '210A'), ('COSI', '300A'), ('COSI', '138A'), ('COSI', '200B'), ('COSI', '393G'), ('COSI', '98A'), ('COSI', '295A'), ('COSI', '299A'), ('COSI', '98B'), ('COSI', '93A'), ('COSI', '10A'), ('COSI', '97A'), ('COSI', '300B'), ('COSI', '45A'), ('COSI', '400D'), ('COSI', '293G'), ('COSI', '293B'), ('COSI', '99D'), ('COSI', '119A')}\n"
     ]
    }
   ],
   "source": [
    "cs_less_than_10 = set()\n",
    "for course in courses:\n",
    "    if course['subject'] == 'COSI' and course['enrolled'] < 10:\n",
    "        cs_less_than_10.add(course['code'])\n",
    "print(cs_less_than_10)"
   ]
  },
  {
   "cell_type": "markdown",
   "metadata": {},
   "source": [
    "### Emma Xu\n",
    "Question: how many independent study classes are there in each subject, prints the top 10 tuplet"
   ]
  },
  {
   "cell_type": "code",
   "execution_count": 27,
   "metadata": {},
   "outputs": [
    {
     "name": "stdout",
     "output_type": "stream",
     "text": [
      "[('BIOL', 473), ('HIST', 456), ('NEUR', 377), ('PSYC', 357), ('BCHM', 285), ('BCBP', 256), ('PHYS', 231), ('COSI', 226), ('ENG', 200), ('WGS', 198)]\n"
     ]
    }
   ],
   "source": [
    "UniqueSubjects = {course['subject'] for course in courses} # a set of unique subjects\n",
    "SIn_list = []\n",
    "for subject in UniqueSubjects:\n",
    "    indepdentStudy = [course for course in courses if (course['subject'] == subject and course['independent_study'] == True)]\n",
    "    SIn_tuple = (subject, len(indepdentStudy)) \n",
    "    SIn_list.append(SIn_tuple)\n",
    "\n",
    "# print(SIn_list) \n",
    "SIn_list.sort(key = lambda tup : tup[1], reverse = True) \n",
    "print (SIn_list[0:10])"
   ]
  },
  {
   "cell_type": "markdown",
   "metadata": {},
   "source": [
    "### Siyu Yang\n",
    "Question: How many people have been waitlisted by ECON depart(non-independent study courses) in total?\n",
    "\n",
    "I'm asking this question is because I'm also an Econ major, and there are very limited ECON electives with small capacities.   So, the course selection process and enrollment are painful, and I'm curious how many people like me are always on the waitlist."
   ]
  },
  {
   "cell_type": "code",
   "execution_count": 15,
   "metadata": {},
   "outputs": [
    {
     "name": "stdout",
     "output_type": "stream",
     "text": [
      "102\n"
     ]
    }
   ],
   "source": [
    "x = 0\n",
    "for c in courses:\n",
    "    if(c['subject']=='ECON' and c['independent_study']==False):\n",
    "        x+=c[ 'waiting']\n",
    "\n",
    "print(x) \n"
   ]
  },
  {
   "cell_type": "markdown",
   "metadata": {},
   "source": [
    "### Yi-Zhe Hong\n",
    "Question: what is the average limit of cosi classes?"
   ]
  },
  {
   "cell_type": "code",
   "execution_count": 16,
   "metadata": {},
   "outputs": [
    {
     "name": "stdout",
     "output_type": "stream",
     "text": [
      "68\n"
     ]
    }
   ],
   "source": [
    "x=0\n",
    "y=0\n",
    "for c in courses:\n",
    "    if (c['subject']==\"COSI\" and c['limit']!=None):\n",
    "        x+=1\n",
    "        y+=c['limit']\n",
    "print(int(y/x))"
   ]
  }
 ],
 "metadata": {
  "kernelspec": {
   "display_name": "Python 3",
   "language": "python",
   "name": "python3"
  },
  "language_info": {
   "codemirror_mode": {
    "name": "ipython",
    "version": 3
   },
   "file_extension": ".py",
   "mimetype": "text/x-python",
   "name": "python",
   "nbconvert_exporter": "python",
   "pygments_lexer": "ipython3",
   "version": "3.8.8"
  }
 },
 "nbformat": 4,
 "nbformat_minor": 4
}
